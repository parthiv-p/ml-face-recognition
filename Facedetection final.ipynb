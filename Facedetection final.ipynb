{
 "cells": [
  {
   "cell_type": "code",
   "execution_count": 2,
   "metadata": {
    "collapsed": true
   },
   "outputs": [],
   "source": [
    "#Capture a video\n",
    "import cv2\n",
    "\n",
    "cap = cv2.VideoCapture(0)\n",
    "w=int(cap.get(cv2.CAP_PROP_FRAME_WIDTH ))\n",
    "h=int(cap.get(cv2.CAP_PROP_FRAME_HEIGHT ))\n",
    "fourcc = cv2.VideoWriter_fourcc(*'MJPG')\n",
    "out = cv2.VideoWriter('video.avi',fourcc, 20.0, (w,h))\n",
    "\n",
    "while(True):\n",
    "    ret, frame = cap.read()\n",
    "    gray = cv2.cvtColor(frame, cv2.COLOR_BGR2GRAY)\n",
    "    try:\n",
    "        out.write(frame)\n",
    "    except:\n",
    "        print('ERROR - Not writting to file') \n",
    "    cv2.imshow('frame',gray)\n",
    "    if cv2.waitKey(1) & 0xFF == ord('p'):\n",
    "        break\n",
    "\n",
    "cap.release()\n",
    "out.release()\n",
    "cv2.destroyAllWindows()"
   ]
  },
  {
   "cell_type": "code",
   "execution_count": 8,
   "metadata": {},
   "outputs": [
    {
     "data": {
      "text/plain": [
       "\"\\n# Framing video into images\\nimport cv2\\nimport numpy as np\\nimport os\\n\\n# Playing video from file:\\ncap = cv2.VideoCapture('video.avi')\\n\\ntry:\\n    if not os.path.exists('data1'):\\n        os.makedirs('data1')\\nexcept OSError:\\n    print ('Error: Creating directory of data')\\n\\ncurrentFrame = 0\\nwhile(currentFrame < 100):\\n    # Capture frame-by-frame\\n    ret, frame = cap.read()\\n\\n    # Saves image of the current frame in jpg file\\n    name = './data1/frame' + str(currentFrame) + '.jpg'\\n    print ('Creating...' + name)\\n    cv2.imwrite(name, frame)\\n\\n    # To stop duplicate images\\n    currentFrame += 1\\n\\n# When everything done, release the capture\\ncap.release()\\ncv2.destroyAllWindows()\\n\""
      ]
     },
     "execution_count": 8,
     "metadata": {},
     "output_type": "execute_result"
    }
   ],
   "source": [
    "\n",
    "# Framing video into images\n",
    "import cv2\n",
    "import numpy as np\n",
    "import os\n",
    "\n",
    "# Playing video from file:\n",
    "cap = cv2.VideoCapture('video.avi')\n",
    "\n",
    "try:\n",
    "    if not os.path.exists('data1'):\n",
    "        os.makedirs('data1')\n",
    "except OSError:\n",
    "    print ('Error: Creating directory of data')\n",
    "\n",
    "currentFrame = 0\n",
    "while(currentFrame < 100):\n",
    "    # Capture frame-by-frame\n",
    "    ret, frame = cap.read()\n",
    "\n",
    "    # Saves image of the current frame in jpg file\n",
    "    name = './data1/frame' + str(currentFrame) + '.jpg'\n",
    "    print ('Creating...' + name)\n",
    "    cv2.imwrite(name, frame)\n",
    "\n",
    "    # To stop duplicate images\n",
    "    currentFrame += 1\n",
    "\n",
    "# When everything done, release the capture\n",
    "cap.release()\n",
    "cv2.destroyAllWindows()\n"
   ]
  },
  {
   "cell_type": "code",
   "execution_count": 7,
   "metadata": {
    "collapsed": true
   },
   "outputs": [],
   "source": [
    "#Image capture and save\n",
    "\n",
    "import cv2\n",
    "\n",
    "def main():\n",
    "    \n",
    "    cam = cv2.VideoCapture(0)\n",
    "\n",
    "    frame = cam.read()[1]\n",
    "\n",
    "    cv2.imwrite(filename='vinay2.jpg', img=frame)\n",
    "\n",
    "if __name__ == '__main__':\n",
    "    main()\n"
   ]
  },
  {
   "cell_type": "code",
   "execution_count": null,
   "metadata": {
    "collapsed": true
   },
   "outputs": [],
   "source": []
  }
 ],
 "metadata": {
  "kernelspec": {
   "display_name": "Python 3",
   "language": "python",
   "name": "python3"
  },
  "language_info": {
   "codemirror_mode": {
    "name": "ipython",
    "version": 3
   },
   "file_extension": ".py",
   "mimetype": "text/x-python",
   "name": "python",
   "nbconvert_exporter": "python",
   "pygments_lexer": "ipython3",
   "version": "3.6.1"
  }
 },
 "nbformat": 4,
 "nbformat_minor": 2
}
